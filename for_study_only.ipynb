{
 "cells": [
  {
   "cell_type": "code",
   "execution_count": 3,
   "metadata": {},
   "outputs": [],
   "source": [
    "# Dependencies\n",
    "from bs4 import BeautifulSoup\n",
    "import requests\n",
    "import os\n",
    "from splinter import Browser\n"
   ]
  },
  {
   "cell_type": "code",
   "execution_count": 4,
   "metadata": {},
   "outputs": [
    {
     "name": "stdout",
     "output_type": "stream",
     "text": [
      "/c/Users/JeabD/bin/chromedriver\n"
     ]
    }
   ],
   "source": [
    "!which chromedriver"
   ]
  },
  {
   "cell_type": "code",
   "execution_count": 5,
   "metadata": {},
   "outputs": [],
   "source": [
    "executable_path = {'executable_path': 'chromedriver.exe'}\n",
    "browser = Browser('chrome', **executable_path, headless=False)"
   ]
  },
  {
   "cell_type": "code",
   "execution_count": 6,
   "metadata": {},
   "outputs": [],
   "source": [
    "# URL of page to be scraped\n",
    "url = 'https://mars.nasa.gov/news'"
   ]
  },
  {
   "cell_type": "code",
   "execution_count": 7,
   "metadata": {
    "scrolled": true
   },
   "outputs": [],
   "source": [
    "browser.visit(url)\n",
    "# button = browser.find_by_name('More')\n",
    "# print(button)\n",
    "# x = browser.click_link_by_partial_text('More')\n",
    "# x.click()\n"
   ]
  },
  {
   "cell_type": "code",
   "execution_count": 8,
   "metadata": {},
   "outputs": [
    {
     "ename": "NameError",
     "evalue": "name 'b1' is not defined",
     "output_type": "error",
     "traceback": [
      "\u001b[1;31m---------------------------------------------------------------------------\u001b[0m",
      "\u001b[1;31mNameError\u001b[0m                                 Traceback (most recent call last)",
      "\u001b[1;32m<ipython-input-8-7c9f7f1c4268>\u001b[0m in \u001b[0;36m<module>\u001b[1;34m\u001b[0m\n\u001b[0;32m      1\u001b[0m \u001b[1;31m# dir use to find functions inside the object\u001b[0m\u001b[1;33m\u001b[0m\u001b[1;33m\u001b[0m\u001b[1;33m\u001b[0m\u001b[0m\n\u001b[1;32m----> 2\u001b[1;33m \u001b[0mdir\u001b[0m\u001b[1;33m(\u001b[0m\u001b[0mb1\u001b[0m\u001b[1;33m)\u001b[0m\u001b[1;33m\u001b[0m\u001b[1;33m\u001b[0m\u001b[0m\n\u001b[0m",
      "\u001b[1;31mNameError\u001b[0m: name 'b1' is not defined"
     ]
    }
   ],
   "source": [
    "# dir use to find functions inside the object\n",
    "dir(b1)"
   ]
  },
  {
   "cell_type": "code",
   "execution_count": 9,
   "metadata": {},
   "outputs": [],
   "source": [
    "top_article_title = \"\"\n",
    "top_article_body = \"\""
   ]
  },
  {
   "cell_type": "code",
   "execution_count": 10,
   "metadata": {},
   "outputs": [
    {
     "name": "stdout",
     "output_type": "stream",
     "text": [
      "How NASA's Perseverance Mars Team Adjusted to Work in the Time of Coronavirus \n"
     ]
    },
    {
     "data": {
      "text/plain": [
       "'Like much of the rest of the world, the Mars rover team is pushing forward with its mission-critical work while putting the health and safety of their colleagues and community first.'"
      ]
     },
     "execution_count": 10,
     "metadata": {},
     "output_type": "execute_result"
    }
   ],
   "source": [
    "html = browser.html\n",
    "soup = BeautifulSoup(html, 'lxml')\n",
    "titles = soup.find('div', class_=\"list_text\")\n",
    "# titles.a.text\n",
    "# titles.find_all('div')\n",
    "for cur_div in titles.find_all('div'):\n",
    "#     print(type(cur_div))\n",
    "#     print(cur_div.attrs[\"class\"])\n",
    "    if \"content_title\" in cur_div.attrs[\"class\"]:\n",
    "        \n",
    "        cur_a = cur_div.find('a')\n",
    "        top_article_title = cur_a.text\n",
    "#         print(cur_a.text)\n",
    "#         print(cur_div)\n",
    "    elif \"article_teaser_body\" in cur_div.attrs[\"class\"]:\n",
    "        \n",
    "        top_article_body = cur_div.text\n",
    "        \n",
    "\n",
    "print(top_article_title)\n",
    "top_article_body\n",
    "\n",
    "# dir(cur_div)\n",
    "# print(cur_div.attrs)\n"
   ]
  },
  {
   "cell_type": "code",
   "execution_count": 25,
   "metadata": {},
   "outputs": [
    {
     "name": "stdout",
     "output_type": "stream",
     "text": [
      "'NavigableString' object has no attribute 'text'\n",
      "'NavigableString' object has no attribute 'text'\n",
      "'NavigableString' object has no attribute 'text'\n",
      "'NavigableString' object has no attribute 'text'\n",
      "'NavigableString' object has no attribute 'text'\n",
      "'NavigableString' object has no attribute 'text'\n",
      "'NavigableString' object has no attribute 'text'\n",
      "'NavigableString' object has no attribute 'text'\n",
      "'NavigableString' object has no attribute 'text'\n",
      "'NavigableString' object has no attribute 'text'\n",
      "'NavigableString' object has no attribute 'text'\n",
      "'NavigableString' object has no attribute 'text'\n",
      "'NavigableString' object has no attribute 'text'\n",
      "'NavigableString' object has no attribute 'text'\n",
      "'NavigableString' object has no attribute 'text'\n",
      "'NavigableString' object has no attribute 'text'\n",
      "'NavigableString' object has no attribute 'text'\n",
      "'NavigableString' object has no attribute 'text'\n",
      "'NavigableString' object has no attribute 'text'\n",
      "'NavigableString' object has no attribute 'text'\n",
      "'NavigableString' object has no attribute 'text'\n",
      "'NavigableString' object has no attribute 'text'\n",
      "'NavigableString' object has no attribute 'text'\n",
      "'NavigableString' object has no attribute 'text'\n",
      "'NavigableString' object has no attribute 'text'\n",
      "'NavigableString' object has no attribute 'text'\n",
      "'NavigableString' object has no attribute 'text'\n",
      "'NavigableString' object has no attribute 'text'\n",
      "'NavigableString' object has no attribute 'text'\n",
      "'NavigableString' object has no attribute 'text'\n",
      "'NavigableString' object has no attribute 'text'\n",
      "'NavigableString' object has no attribute 'text'\n",
      "'NavigableString' object has no attribute 'text'\n",
      "'NavigableString' object has no attribute 'text'\n",
      "'NavigableString' object has no attribute 'text'\n",
      "'NavigableString' object has no attribute 'text'\n",
      "'NavigableString' object has no attribute 'text'\n",
      "'NavigableString' object has no attribute 'text'\n",
      "'NavigableString' object has no attribute 'text'\n",
      "'NavigableString' object has no attribute 'text'\n",
      "'NavigableString' object has no attribute 'text'\n",
      "'NavigableString' object has no attribute 'text'\n",
      "'NavigableString' object has no attribute 'text'\n",
      "'NavigableString' object has no attribute 'text'\n",
      "'NavigableString' object has no attribute 'text'\n",
      "'NavigableString' object has no attribute 'text'\n",
      "'NavigableString' object has no attribute 'text'\n",
      "'NavigableString' object has no attribute 'text'\n",
      "'NavigableString' object has no attribute 'text'\n",
      "'NavigableString' object has no attribute 'text'\n",
      "'NavigableString' object has no attribute 'text'\n",
      "'NavigableString' object has no attribute 'text'\n",
      "'NavigableString' object has no attribute 'text'\n",
      "'NavigableString' object has no attribute 'text'\n",
      "'NavigableString' object has no attribute 'text'\n",
      "'NavigableString' object has no attribute 'text'\n",
      "'NavigableString' object has no attribute 'text'\n",
      "'NavigableString' object has no attribute 'text'\n",
      "'NavigableString' object has no attribute 'text'\n",
      "'NavigableString' object has no attribute 'text'\n",
      "'NavigableString' object has no attribute 'text'\n",
      "'NavigableString' object has no attribute 'text'\n",
      "'NavigableString' object has no attribute 'text'\n",
      "'NavigableString' object has no attribute 'text'\n",
      "'NavigableString' object has no attribute 'text'\n",
      "'NavigableString' object has no attribute 'text'\n",
      "'NavigableString' object has no attribute 'text'\n",
      "'NavigableString' object has no attribute 'text'\n",
      "'NavigableString' object has no attribute 'text'\n",
      "'NavigableString' object has no attribute 'text'\n",
      "'NavigableString' object has no attribute 'text'\n",
      "'NavigableString' object has no attribute 'text'\n",
      "'NavigableString' object has no attribute 'text'\n",
      "'NavigableString' object has no attribute 'text'\n",
      "'NavigableString' object has no attribute 'text'\n",
      "'NavigableString' object has no attribute 'text'\n",
      "'NavigableString' object has no attribute 'text'\n",
      "'NavigableString' object has no attribute 'text'\n",
      "'NavigableString' object has no attribute 'text'\n",
      "'NavigableString' object has no attribute 'text'\n",
      "'NavigableString' object has no attribute 'text'\n",
      "'NavigableString' object has no attribute 'text'\n",
      "'NavigableString' object has no attribute 'text'\n",
      "'NavigableString' object has no attribute 'text'\n",
      "'NavigableString' object has no attribute 'text'\n",
      "'NavigableString' object has no attribute 'text'\n",
      "'NavigableString' object has no attribute 'text'\n",
      "'NavigableString' object has no attribute 'text'\n",
      "'NavigableString' object has no attribute 'text'\n",
      "'NavigableString' object has no attribute 'text'\n",
      "'NavigableString' object has no attribute 'text'\n",
      "'NavigableString' object has no attribute 'text'\n",
      "'NavigableString' object has no attribute 'text'\n",
      "'NavigableString' object has no attribute 'text'\n",
      "'NavigableString' object has no attribute 'text'\n",
      "'NavigableString' object has no attribute 'text'\n",
      "'NavigableString' object has no attribute 'text'\n",
      "'NavigableString' object has no attribute 'text'\n",
      "'NavigableString' object has no attribute 'text'\n",
      "'NavigableString' object has no attribute 'text'\n"
     ]
    }
   ],
   "source": [
    "for x in range (100):\n",
    "    html = browser.html\n",
    "    soup = BeautifulSoup(html, 'lxml')\n",
    "    \n",
    "    titles = soup.find('div', class_=\"content_title\")\n",
    "    new_p = soup.find('div', class_=\"rollover_description_inner\")\n",
    "#     print(f'new_p :{new_p}')\n",
    "#     print(titles)\n",
    "    \n",
    "    for title in titles:\n",
    "    # Error handling\n",
    "        try:\n",
    "            # Identify and return title of listing\n",
    "            news_title = title.text\n",
    "#             p_title = new_p\n",
    "    #         # Identify and return price of listing\n",
    "    #         price = result.a.span.text\n",
    "    #         # Identify and return link to listing\n",
    "    #         link = result.a['href']\n",
    "\n",
    "            # Print results only if title, price, and link are available\n",
    "            if (news_title):\n",
    "                print('-------------')\n",
    "                print(news_title)\n",
    "#                 print(p_title)\n",
    "\n",
    "    #             print(price)\n",
    "    #             print(link)\n",
    "            \n",
    "            \n",
    "        except AttributeError as e:\n",
    "            print(e)\n",
    "        \n",
    "#     button = browser.find_by_name('More')\n",
    "#     button.click()\n",
    "    \n",
    "# More Button link address\n",
    "# <footer class=\"list_footer more_button\">\n",
    "# <div class=\"loading\"></div>\n",
    "# <a class=\"button\" type=\"button\" href=\"#\">More</a>\n",
    "# </footer>\n"
   ]
  },
  {
   "cell_type": "code",
   "execution_count": null,
   "metadata": {},
   "outputs": [],
   "source": [
    "# Retrieve page with the requests module\n",
    "response = requests.get(url)"
   ]
  },
  {
   "cell_type": "code",
   "execution_count": null,
   "metadata": {},
   "outputs": [],
   "source": [
    "# Create BeautifulSoup object; parse with 'html.parser'\n",
    "soup = BeautifulSoup(response.text, 'lxml')\n",
    "type(soup)"
   ]
  },
  {
   "cell_type": "code",
   "execution_count": null,
   "metadata": {},
   "outputs": [],
   "source": [
    "# Examine the results, then determine element that contains sought info\n",
    "print(soup.prettify())"
   ]
  },
  {
   "cell_type": "code",
   "execution_count": null,
   "metadata": {},
   "outputs": [],
   "source": [
    "# Get Latest News \n",
    "titles = soup.find_all('div', class_=\"content_title\")\n",
    "print(titles)"
   ]
  },
  {
   "cell_type": "code",
   "execution_count": null,
   "metadata": {},
   "outputs": [],
   "source": [
    "# Get Latest News Paragraph <div class=\"article_teaser_body\">\n",
    "news_p = soup.find_all('div', class_=\"rollover_description_inner\")\n",
    "print(news_p)"
   ]
  },
  {
   "cell_type": "code",
   "execution_count": null,
   "metadata": {},
   "outputs": [],
   "source": [
    "# Loop through returned results\n",
    "for title in titles:\n",
    "    # Error handling\n",
    "    try:\n",
    "        # Identify and return title of listing\n",
    "        news_title = title.text\n",
    "#         # Identify and return price of listing\n",
    "#         price = result.a.span.text\n",
    "#         # Identify and return link to listing\n",
    "#         link = result.a['href']\n",
    "\n",
    "        # Print results only if title, price, and link are available\n",
    "        if (news_title):\n",
    "            print('-------------')\n",
    "            print(news_title)\n",
    "            \n",
    "#             print(price)\n",
    "#             print(link)\n",
    "    except AttributeError as e:\n",
    "        print(e)"
   ]
  },
  {
   "cell_type": "code",
   "execution_count": null,
   "metadata": {},
   "outputs": [],
   "source": []
  },
  {
   "cell_type": "code",
   "execution_count": null,
   "metadata": {},
   "outputs": [],
   "source": []
  }
 ],
 "metadata": {
  "kernelspec": {
   "display_name": "Python 3",
   "language": "python",
   "name": "python3"
  },
  "language_info": {
   "codemirror_mode": {
    "name": "ipython",
    "version": 3
   },
   "file_extension": ".py",
   "mimetype": "text/x-python",
   "name": "python",
   "nbconvert_exporter": "python",
   "pygments_lexer": "ipython3",
   "version": "3.7.6"
  }
 },
 "nbformat": 4,
 "nbformat_minor": 4
}
